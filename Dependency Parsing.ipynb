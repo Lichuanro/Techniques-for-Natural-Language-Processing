{
 "cells": [
  {
   "cell_type": "markdown",
   "metadata": {},
   "source": [
    "# Dependency Parsing"
   ]
  },
  {
   "cell_type": "markdown",
   "metadata": {},
   "source": [
    "For intuitive understanding, use `spaCy` to get an example of dependency parsing first\n",
    "\n",
    "This will print following information:\n",
    "* Text: The original token text.\n",
    "* Dep: The syntactic relation connecting child to head.\n",
    "* Head text: The original text of the token head.\n",
    "* Head POS: The part-of-speech tag of the token head.\n",
    "* Children: The immediate syntactic dependents of the token."
   ]
  },
  {
   "cell_type": "code",
   "execution_count": 24,
   "metadata": {},
   "outputs": [
    {
     "name": "stdout",
     "output_type": "stream",
     "text": [
      "I nsubj booked VERB []\n",
      "booked ROOT booked VERB [I, ticket, to]\n",
      "a det ticket NOUN []\n",
      "ticket dobj booked VERB [a]\n",
      "to prep booked VERB [Seattle]\n",
      "Seattle pobj to ADP []\n"
     ]
    }
   ],
   "source": [
    "import spacy\n",
    "import en_core_web_sm\n",
    "nlp = en_core_web_sm.load()\n",
    "\n",
    "doc = nlp(\"I booked a ticket to Seattle\")\n",
    "for token in doc:\n",
    "    print(token.text, token.dep_, token.head.text, token.head.pos_,\n",
    "            [child for child in token.children])"
   ]
  },
  {
   "attachments": {},
   "cell_type": "markdown",
   "metadata": {},
   "source": [
    "## Dependency Grammars\n",
    "\n",
    "Previously in CFGs:\n",
    "* Phrase-structure grammars\n",
    "* Focus on modeling constituent structure\n",
    "\n",
    "Currently in Dependency grammars, syntactic structure described in terms of\n",
    "* Words \n",
    "* Syntactic/Semantic relations between words\n",
    "\n",
    "## Dependency Parsing\n",
    "A dependency parse is a tree, where\n",
    "\n",
    "* Nodes correspond to words in utterance\n",
    "\n",
    "* Edges between nodes represent dependency relations (Relations may be labeled or not)\n",
    "\n",
    "![dependency tree](./img/dependency_tree.png)\n",
    "\n",
    "Advantage of dependency parsing:\n",
    "* ability to deal with languages that are morphologically rich and have a relatively free word order (in CFG need to dd extra phrases structure rules for alternatives)\n",
    "* the head-dependent relations provide an approximation to the semantic relationship between predicates and their arguments **(good for coreference resolution, question answering and information extraction)**\n",
    "\n",
    "Three main strategies for parsing:\n",
    "* Convert dependency trees to PS trees (Parse using standard algorithms O(n3))\n",
    "\n",
    "* Employ graph-based optimization (Weights learned by machine learning)\n",
    "\n",
    "* Shift-reduce approaches based on current word/state (Attachment based on machine learning)\n",
    "\n",
    "## Dependency Relation\n",
    "Grammatical relation provides the basis for the binary relations that comprise these dependency structures. The arguments to these relations consist of a head and a dependent.\n",
    "<img src=\"./img/dependency_relation.png\" width=\"530\">\n",
    "<img src=\"./img/dependency_relation_example.png\" width=\"500\">\n",
    "\n",
    "## Transition-Based Dependency Parsing\n",
    "A stack-based shift-reduce parsing\n",
    "![](https://2.bp.blogspot.com/-fqtmVS97tOs/VzTEAI9BQ8I/AAAAAAAAA_U/xPj0Av64sGseS0rF4Z1BbhmS77J-HuEvwCLcB/s1600/image04.gif)"
   ]
  },
  {
   "cell_type": "markdown",
   "metadata": {},
   "source": [
    "A key element in transition-based parsing is the notion of a **conﬁguration**, consists of \n",
    "* a stack\n",
    "* an input buffer of words, or tokens\n",
    "* a set of relations representing a dependency tree\n",
    "\n",
    "The parsing process consists of a sequence of transitions through the space of possible conﬁgurations.\n",
    "\n",
    "```\n",
    "function DEPENDENCY_PARSE(words) returns dependency tree \n",
    "    state ← { [root], [words], [] } ; initial conﬁguration \n",
    "    while state not final \n",
    "        t ← ORACLE(state) ; choose a transition operator to apply \n",
    "        state ← APPLY(t, state) ; apply it, creating a new state \n",
    "    return state\n",
    "```"
   ]
  },
  {
   "cell_type": "code",
   "execution_count": null,
   "metadata": {},
   "outputs": [],
   "source": [
    "# Code to be continued"
   ]
  },
  {
   "attachments": {},
   "cell_type": "markdown",
   "metadata": {},
   "source": [
    "## Graph-Based Dependency Parsing\n",
    "Encode the search space as directed graphs and employ methods drawn from graph theory to search the space for optimal solutions. Apply maximum spanning tree (MST) algorithm to a graph.\n",
    "\n",
    "Goal: Find the highest scoring dependency tree T for sentence S  \n",
    "* If S is unambiguous, T is the correct parse.\n",
    "* If S is ambiguous, T is the highest scoring parse.\n",
    "\n",
    "Scores come from:  \n",
    "* Weights on dependency edges by machine learning\n",
    "* Learned from large dependency treebank\n",
    "\n",
    "Idea:\n",
    "Build initial graph: fully connected\n",
    "* Nodes: words in sentence to parse\n",
    "* Edges: Directed edges between all words (and from ROOT to all words)\n",
    "\n",
    "Identify maximum spanning tree\n",
    "* Tree with all nodes connected\n",
    "* Select the tree with highest weight\n",
    "* Arc-factored model: Weights depend on end nodes & link (weight of tree is sum of participating arcs)\n",
    "\n",
    "```\n",
    "function M AX S PANNING T REE(G=(V,E), root,score) returns spanning tree \n",
    "    F ← [] \n",
    "    T’ ← [] \n",
    "    score’ ← [] \n",
    "    for each v ∈ V do \n",
    "        bestInEdge ← argmax score[e] for e=(u,v)∈ E\n",
    "        F ← F ∪ bestInEdge \n",
    "        for each e=(u,v) ∈ E do \n",
    "            score’[e] ← score[e] − score[bestInEdge]\n",
    "\n",
    "        if T=(V,F) is a spanning tree then return it \n",
    "        else\n",
    "            C ← a cycle in F \n",
    "            G’ ← C ONTRACT(G,C) \n",
    "            T’ ← MAXSPANNINGTREE(G’,root,score’) \n",
    "            T ← EXPAND(T’, C) return T\n",
    "\n",
    "function CONTRACT(G,C) returns contracted graph \n",
    "function EXPAND(T, C) returns expanded graph\n",
    "```"
   ]
  },
  {
   "cell_type": "code",
   "execution_count": null,
   "metadata": {},
   "outputs": [],
   "source": [
    "# Code to be continued"
   ]
  }
 ],
 "metadata": {
  "kernelspec": {
   "display_name": "Python 3",
   "language": "python",
   "name": "python3"
  },
  "language_info": {
   "codemirror_mode": {
    "name": "ipython",
    "version": 3
   },
   "file_extension": ".py",
   "mimetype": "text/x-python",
   "name": "python",
   "nbconvert_exporter": "python",
   "pygments_lexer": "ipython3",
   "version": "3.7.5"
  }
 },
 "nbformat": 4,
 "nbformat_minor": 2
}
