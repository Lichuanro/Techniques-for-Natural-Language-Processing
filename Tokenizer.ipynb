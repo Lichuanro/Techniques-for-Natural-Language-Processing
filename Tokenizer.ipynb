{
 "cells": [
  {
   "cell_type": "code",
   "execution_count": 3,
   "metadata": {},
   "outputs": [],
   "source": [
    "import nltk\n",
    "import spacy"
   ]
  },
  {
   "cell_type": "markdown",
   "metadata": {},
   "source": [
    "# Define test text"
   ]
  },
  {
   "cell_type": "code",
   "execution_count": 5,
   "metadata": {},
   "outputs": [],
   "source": [
    "text = '''\n",
    "The U.S. is one of the few industrialized nations that doesn't have a higher standard of regulation for the smooth, needle-like fibers such as crocidolite that are classified as amphobiles, according to Brooke T. Mossman, a professor of pathlogy at the University of Vermont College of Medicine.\n",
    "'''"
   ]
  },
  {
   "cell_type": "markdown",
   "metadata": {},
   "source": [
    "# Tokenizers in NLTK"
   ]
  },
  {
   "cell_type": "markdown",
   "metadata": {},
   "source": [
    "## TreebankWordTokenizer\n",
    "Uses regular expressions to tokenize text as in Penn Treebank."
   ]
  },
  {
   "cell_type": "code",
   "execution_count": 8,
   "metadata": {},
   "outputs": [
    {
     "name": "stdout",
     "output_type": "stream",
     "text": [
      "The|U.S.|is|one|of|the|few|industrialized|nations|that|does|n't|have|a|higher|standard|of|regulation|for|the|smooth|,|needle-like|fibers|such|as|crocidolite|that|are|classified|as|amphobiles|,|according|to|Brooke|T.|Mossman|,|a|professor|of|pathlogy|at|the|University|of|Vermont|College|of|Medicine|.\n"
     ]
    }
   ],
   "source": [
    "from nltk.tokenize import TreebankWordTokenizer \n",
    "  \n",
    "tokenizer = TreebankWordTokenizer() \n",
    "print('|'.join(tokenizer.tokenize(text))) "
   ]
  },
  {
   "cell_type": "markdown",
   "metadata": {},
   "source": [
    "## WordPunctTokenizer\n",
    "Tokenize a text into a sequence of alphabetic and non-alphabetic characters, using the regexp \\w+|[^\\w\\s]+."
   ]
  },
  {
   "cell_type": "code",
   "execution_count": 10,
   "metadata": {},
   "outputs": [
    {
     "name": "stdout",
     "output_type": "stream",
     "text": [
      "The|U|.|S|.|is|one|of|the|few|industrialized|nations|that|doesn|'|t|have|a|higher|standard|of|regulation|for|the|smooth|,|needle|-|like|fibers|such|as|crocidolite|that|are|classified|as|amphobiles|,|according|to|Brooke|T|.|Mossman|,|a|professor|of|pathlogy|at|the|University|of|Vermont|College|of|Medicine|.\n"
     ]
    }
   ],
   "source": [
    "from nltk.tokenize import WordPunctTokenizer \n",
    "\n",
    "tokenizer = WordPunctTokenizer() \n",
    "print('|'.join(tokenizer.tokenize(text)))"
   ]
  },
  {
   "cell_type": "markdown",
   "metadata": {},
   "source": [
    "## word_tokenize\n",
    "Currently an improved TreebankWordTokenizer along with PunktSentenceTokenizer for the specified language."
   ]
  },
  {
   "cell_type": "code",
   "execution_count": 43,
   "metadata": {},
   "outputs": [
    {
     "name": "stdout",
     "output_type": "stream",
     "text": [
      "The|U.S.|is|one|of|the|few|industrialized|nations|that|does|n't|have|a|higher|standard|of|regulation|for|the|smooth|,|needle-like|fibers|such|as|crocidolite|that|are|classified|as|amphobiles|,|according|to|Brooke|T.|Mossman|,|a|professor|of|pathlogy|at|the|University|of|Vermont|College|of|Medicine|.\n"
     ]
    }
   ],
   "source": [
    "from nltk.tokenize import word_tokenize \n",
    "\n",
    "print('|'.join(word_tokenize(text)))"
   ]
  },
  {
   "cell_type": "markdown",
   "metadata": {},
   "source": [
    "# spaCy"
   ]
  },
  {
   "cell_type": "code",
   "execution_count": 29,
   "metadata": {},
   "outputs": [
    {
     "name": "stdout",
     "output_type": "stream",
     "text": [
      "\n",
      "|The|U.S.|is|one|of|the|few|industrialized|nations|that|doesn't|have|a|higher|standard|of|regulation|for|the|smooth,|needle-like|fibers|such|as|crocidolite|that|are|classified|as|amphobiles,|according|to|Brooke|T.|Mossman,|a|professor|of|pathlogy|at|the|University|of|Vermont|College|of|Medicine.|\n",
      "\n"
     ]
    }
   ],
   "source": [
    "from spacy.tokenizer import Tokenizer\n",
    "from spacy.lang.en import English\n",
    "nlp = English()\n",
    "tokenizer = Tokenizer(nlp.vocab)\n",
    "\n",
    "print('|'.join([w.text for w in tokenizer(text)]))"
   ]
  },
  {
   "cell_type": "markdown",
   "metadata": {},
   "source": [
    "# Design my own Regex Tokenzer"
   ]
  },
  {
   "cell_type": "code",
   "execution_count": 40,
   "metadata": {},
   "outputs": [],
   "source": [
    "import re\n",
    "\n",
    "abbr_list = ['U.S', 'T']\n",
    "\n",
    "def preprocess(s):\n",
    "    # handle some special cases\n",
    "    s = s.strip()\n",
    "    s = re.sub(r\"n't\", \" n't\", s) # e.g. won't -> wo n't\n",
    "    s = re.sub(r\"'s\", \" 's\", s) # e.g. Bob's -> Bob 's\n",
    "    s = re.sub(r\"'re\", \" 're\", s) # e.g. we're -> we 're\n",
    "    s = re.sub(r\"cannot\", \"can not\", s)\n",
    "    s = re.sub(r'\\s\"(\\S+)\\s', r' `` \\1 ' , s) # e.g. he said, \"xxx -> he said, `` xxx\n",
    "    s = re.sub(r'^\"(\\S+)\\s', r'`` \\1 ' , s) # e.g. \"Xxx -> `` Xxx\n",
    "    s = re.sub(r'\\s(\\S+)\"', r\" \\1 '' \", s) # e.g. xxx\" -> xxx ''\n",
    "    return s\n",
    "\n",
    "def check_abbr(s):\n",
    "    # end in punctuation except \".\"\n",
    "    result = re.findall(r'''^([\\w+\\.]+)([,?!:;'])$''', s)\n",
    "    if result:\n",
    "        return list(result[0])\n",
    "    # word end in \".\", check if it's an abbr\n",
    "    result = re.findall(r'^(\\w+).?[.]$', s)\n",
    "    if result:\n",
    "        if result[0] in abbr_list: # abbr_list is a list containing predefined abbrevations\n",
    "            return [s]\n",
    "        else:\n",
    "            return [result[0], '.']\n",
    "    return [s]\n",
    "\n",
    "def tokenizer(s):\n",
    "    s = preprocess(s)\n",
    "    words = s.split()\n",
    "    token_list = []\n",
    "    for word in words:\n",
    "        token_list += check_abbr(word)\n",
    "    return [w for w in token_list if w]"
   ]
  },
  {
   "cell_type": "code",
   "execution_count": 41,
   "metadata": {},
   "outputs": [
    {
     "name": "stdout",
     "output_type": "stream",
     "text": [
      "The|U.S.|is|one|of|the|few|industrialized|nations|that|does|n't|have|a|higher|standard|of|regulation|for|the|smooth|,|needle-like|fibers|such|as|crocidolite|that|are|classified|as|amphobiles|,|according|to|Brooke|T.|Mossman|,|a|professor|of|pathlogy|at|the|University|of|Vermont|College|of|Medicine|.\n"
     ]
    }
   ],
   "source": [
    "print('|'.join(tokenizer(text)))"
   ]
  },
  {
   "cell_type": "code",
   "execution_count": null,
   "metadata": {},
   "outputs": [],
   "source": []
  }
 ],
 "metadata": {
  "kernelspec": {
   "display_name": "Python 3",
   "language": "python",
   "name": "python3"
  },
  "language_info": {
   "codemirror_mode": {
    "name": "ipython",
    "version": 3
   },
   "file_extension": ".py",
   "mimetype": "text/x-python",
   "name": "python",
   "nbconvert_exporter": "python",
   "pygments_lexer": "ipython3",
   "version": "3.6.8"
  },
  "toc": {
   "base_numbering": 1,
   "nav_menu": {},
   "number_sections": true,
   "sideBar": true,
   "skip_h1_title": false,
   "title_cell": "Table of Contents",
   "title_sidebar": "Contents",
   "toc_cell": false,
   "toc_position": {},
   "toc_section_display": true,
   "toc_window_display": false
  }
 },
 "nbformat": 4,
 "nbformat_minor": 2
}
