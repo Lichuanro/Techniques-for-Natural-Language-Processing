{
 "cells": [
  {
   "cell_type": "markdown",
   "metadata": {},
   "source": [
    "# N-Gram Language Model\n",
    "Language Models(LMs) assign probabilities to sequences of words.  \n",
    "N-gram language model is the the simplest model that assigns probabilities to sentences with sequences of N words.  \n",
    "  \n",
    "Let $P(w | h)$ be the probability of a word w given some history $h$  \n",
    "Since language is creative, we cannot calculate the probability for every word given every history,  \n",
    "One way is to decompose this probability using the chain rule of probability:\n",
    "$P(X_1 ...X_n ) = P(X_1)P(X_2 | X_1)P(X_3 | X_1^2 )...P(X_n | X_1^{n−1})$  \n",
    "But this may not help for the same reason.   \n",
    "The intuition of the n-gram model is that instead of computing the probability of a word given its entire history, we can approximate the history by just the last few words.  \n",
    "In bigram, that is $P(w_n | w_1^{n−1} ) ≈ P(w_n | w_{n−1} )$  \n",
    "And $P(w_n| w_{n−1}) = \\frac{C(w_{n-1}w_n)}{C(w_{n-1})}$"
   ]
  },
  {
   "cell_type": "code",
   "execution_count": 1,
   "metadata": {},
   "outputs": [],
   "source": [
    "file_dir = './data/wsj_sec22'"
   ]
  },
  {
   "cell_type": "code",
   "execution_count": 2,
   "metadata": {},
   "outputs": [],
   "source": [
    "from collections import Counter\n",
    "\n",
    "c = Counter()\n",
    "with open(file_dir) as f:\n",
    "    for line in f.readlines():\n",
    "        words = ['<s>'] + line.lower().strip().split() + ['</s>']\n",
    "        bigram = zip(*[words[i:] for i in range(2)])\n",
    "        trigram = zip(*[words[i:] for i in range(3)])\n",
    "        c.update([(w,) for w in words])\n",
    "        c.update(bigram)\n",
    "        c.update(trigram)"
   ]
  },
  {
   "cell_type": "code",
   "execution_count": 3,
   "metadata": {},
   "outputs": [
    {
     "data": {
      "text/plain": [
       "[(('the',), 2185),\n",
       " ((',',), 2143),\n",
       " (('<s>',), 1700),\n",
       " (('</s>',), 1700),\n",
       " (('.',), 1660),\n",
       " (('.', '</s>'), 1562),\n",
       " (('of',), 913),\n",
       " (('to',), 868),\n",
       " (('a',), 817),\n",
       " (('in',), 706)]"
      ]
     },
     "execution_count": 3,
     "metadata": {},
     "output_type": "execute_result"
    }
   ],
   "source": [
    "c.most_common(10)"
   ]
  },
  {
   "cell_type": "code",
   "execution_count": 4,
   "metadata": {},
   "outputs": [
    {
     "data": {
      "text/plain": [
       "[(('up', 'from', '$'), 1),\n",
       " (('from', '$', '15.2'), 1),\n",
       " (('$', '15.2', 'million'), 1),\n",
       " (('15.2', 'million', 'in'), 1),\n",
       " (('fiscal', '1988', 'and'), 1),\n",
       " (('1988', 'and', '$'), 1),\n",
       " (('and', '$', '3.9'), 1),\n",
       " (('$', '3.9', 'million'), 1),\n",
       " (('3.9', 'million', 'in'), 1),\n",
       " (('million', 'in', '1985'), 1)]"
      ]
     },
     "execution_count": 4,
     "metadata": {},
     "output_type": "execute_result"
    }
   ],
   "source": [
    "c.most_common()[-10:]"
   ]
  },
  {
   "cell_type": "code",
   "execution_count": 5,
   "metadata": {},
   "outputs": [],
   "source": [
    "unigram = dict()\n",
    "bigram = dict()\n",
    "trigram = dict()\n",
    "\n",
    "for k, v in c.items():\n",
    "    if len(k) == 1:\n",
    "        unigram[k] = v\n",
    "    elif len(k) == 2:\n",
    "        bigram[k] = v\n",
    "    else:\n",
    "        trigram[k] = v"
   ]
  },
  {
   "cell_type": "code",
   "execution_count": 9,
   "metadata": {},
   "outputs": [],
   "source": [
    "unigram_prob = dict()\n",
    "unigram_token = sum(unigram.values())\n",
    "for word, num in unigram.items():\n",
    "    unigram_prob[word] = num / unigram_token\n",
    "\n",
    "# P(w2|w1) = P(w1, w2) / P(w1, _)\n",
    "bigram_prob = dict()\n",
    "for words, num in bigram.items():\n",
    "    w1, w2 = words\n",
    "    bigram_prob[words] = num / unigram[(w1,)]\n",
    "\n",
    "# P(w3|w2w1) = P(w1, w2, w3) / P(w1, w2, _)\n",
    "trigram_prob = dict()\n",
    "for words, num in trigram.items():\n",
    "    w1, w2, w3 = words\n",
    "    trigram_prob[words] = num / bigram[(w1, w2)]"
   ]
  },
  {
   "cell_type": "code",
   "execution_count": 12,
   "metadata": {},
   "outputs": [
    {
     "data": {
      "text/plain": [
       "[(('the',), 2185),\n",
       " ((',',), 2143),\n",
       " (('<s>',), 1700),\n",
       " (('</s>',), 1700),\n",
       " (('.',), 1660),\n",
       " (('of',), 913),\n",
       " (('to',), 868),\n",
       " (('a',), 817),\n",
       " (('in',), 706),\n",
       " (('and',), 682)]"
      ]
     },
     "execution_count": 12,
     "metadata": {},
     "output_type": "execute_result"
    }
   ],
   "source": [
    "sorted(unigram.items(), key=lambda x:x[1], reverse=True)[:10]"
   ]
  },
  {
   "cell_type": "code",
   "execution_count": 13,
   "metadata": {},
   "outputs": [
    {
     "data": {
      "text/plain": [
       "[(('.', '</s>'), 1562),\n",
       " (('<s>', 'the'), 293),\n",
       " (('of', 'the'), 219),\n",
       " (('in', 'the'), 208),\n",
       " ((',', 'the'), 176),\n",
       " (('<s>', '``'), 124),\n",
       " ((',', \"''\"), 121),\n",
       " (('for', 'the'), 102),\n",
       " ((',', 'and'), 97),\n",
       " ((',', 'a'), 89)]"
      ]
     },
     "execution_count": 13,
     "metadata": {},
     "output_type": "execute_result"
    }
   ],
   "source": [
    "sorted(bigram.items(), key=lambda x:x[1], reverse=True)[:10]"
   ]
  },
  {
   "cell_type": "code",
   "execution_count": 14,
   "metadata": {},
   "outputs": [
    {
     "data": {
      "text/plain": [
       "[(('.', \"''\", '</s>'), 82),\n",
       " (('said', '.', '</s>'), 56),\n",
       " (('a', 'share', ','), 46),\n",
       " (('million', ',', 'or'), 44),\n",
       " (('the', 'stock', 'market'), 41),\n",
       " ((',', \"''\", 'said'), 33),\n",
       " (('%', '.', '</s>'), 33),\n",
       " (('cents', 'a', 'share'), 31),\n",
       " ((',', \"''\", 'he'), 26),\n",
       " ((',', 'or', '$'), 25)]"
      ]
     },
     "execution_count": 14,
     "metadata": {},
     "output_type": "execute_result"
    }
   ],
   "source": [
    "sorted(trigram.items(), key=lambda x:x[1], reverse=True)[:10]"
   ]
  },
  {
   "cell_type": "markdown",
   "metadata": {},
   "source": [
    "Since the language model is created, we can use it to calculate the probability of a given sentence.  \n",
    "  \n",
    "But there's always a problem of zero frequency n-grams.\n",
    "\n",
    "In simple linear interpolation, we combine different order n-grams by linearly interpolating all the models. Thus, we estimate the trigram probability $P(w_n | w_{n−2} w_{n−1} )$ by mixing together the unigram, bigram, and trigram probabilities, each weighted by a λ:"
   ]
  },
  {
   "cell_type": "code",
   "execution_count": 23,
   "metadata": {},
   "outputs": [],
   "source": [
    "import math\n",
    "def calculate_prob(text, unigram_prob=unigram_prob, bigram_prob=bigram_prob, trigram_prob=trigram_prob, l1=0.1, l2=0.2, l3=0.7):\n",
    "    words = text.split()\n",
    "    last_two = ['<s>']\n",
    "    sum_ = 0\n",
    "    for w in words + ['</s>']:\n",
    "        if (w,) in unigram_prob:\n",
    "            p1 = unigram_prob[(w,)]\n",
    "            p2 = bigram_prob.get((last_two[-1], w), 0)\n",
    "            if len(last_two) == 2:\n",
    "                p3 = trigram_prob.get((last_two[-2], last_two[-1], w), 0)\n",
    "            else:\n",
    "                p3 = 0\n",
    "            p = l3*p3 + l2*p2 + l1*p1\n",
    "            sum_ += math.log10(p)\n",
    "        last_two.append(w)\n",
    "        last_two = last_two[-2:]\n",
    "    return 10**sum_"
   ]
  },
  {
   "cell_type": "code",
   "execution_count": 24,
   "metadata": {},
   "outputs": [
    {
     "data": {
      "text/plain": [
       "9.496073294185911e-13"
      ]
     },
     "execution_count": 24,
     "metadata": {},
     "output_type": "execute_result"
    }
   ],
   "source": [
    "test_text = 'Earlier in the session , the prices of several soybean contracts set new lows .'\n",
    "calculate_prob(test_text)"
   ]
  }
 ],
 "metadata": {
  "kernelspec": {
   "display_name": "Python 3",
   "language": "python",
   "name": "python3"
  },
  "language_info": {
   "codemirror_mode": {
    "name": "ipython",
    "version": 3
   },
   "file_extension": ".py",
   "mimetype": "text/x-python",
   "name": "python",
   "nbconvert_exporter": "python",
   "pygments_lexer": "ipython3",
   "version": "3.7.5"
  }
 },
 "nbformat": 4,
 "nbformat_minor": 2
}
